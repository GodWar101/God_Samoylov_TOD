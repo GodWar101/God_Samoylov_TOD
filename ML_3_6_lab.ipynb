{
  "nbformat": 4,
  "nbformat_minor": 0,
  "metadata": {
    "colab": {
      "provenance": []
    },
    "kernelspec": {
      "name": "python3",
      "display_name": "Python 3"
    },
    "language_info": {
      "name": "python"
    }
  },
  "cells": [
    {
      "cell_type": "markdown",
      "source": [
        "1) На использованном в работе наборе данных примените другие вариации модели наивного Байеса - Мультономиальный, Бернулли, категориальные и комплементарный. Для каждой модели сделайте вывод о ее применимости."
      ],
      "metadata": {
        "id": "tq8dvPVwV6wq"
      }
    },
    {
      "cell_type": "code",
      "source": [
        "import numpy as np\n",
        "import pandas as pd\n",
        "from sklearn import datasets\n",
        "from sklearn.feature_extraction.text import CountVectorizer, TfidfVectorizer\n",
        "from sklearn.naive_bayes import MultinomialNB, BernoulliNB, CategoricalNB, ComplementNB, GaussianNB\n",
        "from sklearn.model_selection import train_test_split\n",
        "from sklearn.metrics import confusion_matrix, accuracy_score, f1_score\n",
        "\n",
        "\n",
        "data = datasets.load_breast_cancer()\n",
        "df = pd.DataFrame(data.data, columns=data.feature_names)\n",
        "\n",
        "X = data.data[:,:2]\n",
        "y = data.target\n",
        "\n",
        "models = [\n",
        "    ('Мультономиальный', MultinomialNB()),\n",
        "    ('Бернулли', BernoulliNB()),\n",
        "    ('Категориальные', CategoricalNB()),\n",
        "    ('Комплементарный', ComplementNB())\n",
        "]\n",
        "\n",
        "for name, model in models:\n",
        "    model.fit(X, y)\n",
        "    y_pred = model.predict(X)\n",
        "    accuracy = accuracy_score(y, y_pred)\n",
        "    print(f'{name}: {accuracy:.4f}')"
      ],
      "metadata": {
        "colab": {
          "base_uri": "https://localhost:8080/"
        },
        "id": "I4HqZ4dQV1PG",
        "outputId": "134e3ad3-2235-4048-9ac3-609440673091"
      },
      "execution_count": null,
      "outputs": [
        {
          "output_type": "stream",
          "name": "stdout",
          "text": [
            "Мультономиальный: 0.6784\n",
            "Бернулли: 0.6274\n",
            "Категориальные: 0.9033\n",
            "Комплементарный: 0.6239\n"
          ]
        }
      ]
    },
    {
      "cell_type": "markdown",
      "source": [
        "2) Загрузите набор данных о выживших на титанике, прилагающийся к этой работе. Повторите на нем моделирование из методических указаний. Попробуйте разные варианты байесовского классификатора в зависимости от форм расрпеделния эмпирических данных."
      ],
      "metadata": {
        "id": "1fuyxq9JW42A"
      }
    },
    {
      "cell_type": "code",
      "source": [
        "from sklearn.preprocessing import StandardScaler\n",
        "\n",
        "data = pd.read_csv(\"titanic.csv\")\n",
        "\n",
        "X = data.drop(\"Survived\", axis=1)\n",
        "y = data[\"Survived\"]\n",
        "\n",
        "X_train, X_test, y_train, y_test = train_test_split(X, y, test_size=0.2, random_state=42)\n",
        "\n",
        "scaler = StandardScaler()\n",
        "X_train_scaled = scaler.fit_transform(X_train)\n",
        "X_test_scaled = scaler.transform(X_test)\n",
        "\n",
        "models = {\n",
        "    \"Баесс\": GaussianNB(),\n",
        "    \"Мультономиальный\": MultinomialNB(),\n",
        "    \"Бернулли\": BernoulliNB()\n",
        "}\n",
        "\n",
        "for name, model in models.items():\n",
        "    try:\n",
        "        model.fit(X_train_scaled, y_train)\n",
        "        y_pred = model.predict(X_test_scaled)\n",
        "        accuracy = accuracy_score(y_test, y_pred)\n",
        "        print(f\"{name} - Точность: {accuracy}\")\n",
        "    except ValueError as e:\n",
        "        print(f\"{name} - {e}\")"
      ],
      "metadata": {
        "colab": {
          "base_uri": "https://localhost:8080/"
        },
        "id": "3GN-f-5tW9A-",
        "outputId": "c82c12a1-4132-41c4-e159-d836d6341c5f"
      },
      "execution_count": null,
      "outputs": [
        {
          "output_type": "stream",
          "name": "stdout",
          "text": [
            "Баесс - Точность: 0.770949720670391\n",
            "Мультономиальный - Negative values in data passed to MultinomialNB (input X)\n",
            "Бернулли - Точность: 0.770949720670391\n"
          ]
        }
      ]
    },
    {
      "cell_type": "markdown",
      "source": [
        "3) Загрузите набор данных о Титанике с сайта Kaggle. Обратите внимание на обилие категориальных переменных. Примените на нем наивный байесовский классификатор."
      ],
      "metadata": {
        "id": "I6pKJyTHW6G3"
      }
    },
    {
      "cell_type": "code",
      "source": [
        "df = pd.read_csv('titanic.csv')\n",
        "\n",
        "X = data.iloc[:, 1:]\n",
        "y = data.iloc[:, 1].values\n",
        "\n",
        "gnb = GaussianNB().fit(X, y)\n",
        "\n",
        "y_pred = gnb.predict(X)\n",
        "accuracy = accuracy_score(y, y_pred)\n",
        "print(f'Точность: {accuracy:.4f}')"
      ],
      "metadata": {
        "colab": {
          "base_uri": "https://localhost:8080/"
        },
        "id": "Wo0a6zskXAZC",
        "outputId": "652e5ecf-8783-48ee-a94d-d706935b8e63"
      },
      "execution_count": null,
      "outputs": [
        {
          "output_type": "stream",
          "name": "stdout",
          "text": [
            "Точность: 1.0000\n"
          ]
        }
      ]
    }
  ]
}