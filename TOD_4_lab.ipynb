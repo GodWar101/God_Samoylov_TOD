{
  "cells": [
    {
      "cell_type": "markdown",
      "metadata": {
        "id": "kOnhcVCTki4A"
      },
      "source": [
        "## Задачи для совместного разбора"
      ]
    },
    {
      "cell_type": "code",
      "execution_count": null,
      "metadata": {
        "id": "sJCu5SAnki4A"
      },
      "outputs": [],
      "source": [
        "import xlwings as xw\n",
        "import xlsxwriter\n",
        "import pandas as pd\n",
        "import numpy as np\n",
        "import csv\n",
        "from IPython.display import Image"
      ]
    },
    {
      "cell_type": "markdown",
      "metadata": {
        "id": "0PwNBk_4ki4A"
      },
      "source": [
        "1. На листе \"Рецептура\" файла `себестоимостьА_в1.xlsx` для области \"Пшеничный хлеб\" рассчитать себестоимость всех видов продукции."
      ]
    },
    {
      "cell_type": "code",
      "execution_count": null,
      "metadata": {
        "id": "tupXOc5kki4B",
        "outputId": "0ed37c92-ef3e-4621-d3c2-c1f688e01066"
      },
      "outputs": [
        {
          "data": {
            "text/html": [
              "<div>\n",
              "<style scoped>\n",
              "    .dataframe tbody tr th:only-of-type {\n",
              "        vertical-align: middle;\n",
              "    }\n",
              "\n",
              "    .dataframe tbody tr th {\n",
              "        vertical-align: top;\n",
              "    }\n",
              "\n",
              "    .dataframe thead th {\n",
              "        text-align: right;\n",
              "    }\n",
              "</style>\n",
              "<table border=\"1\" class=\"dataframe\">\n",
              "  <thead>\n",
              "    <tr style=\"text-align: right;\">\n",
              "      <th></th>\n",
              "      <th>Name</th>\n",
              "      <th>Cost_price</th>\n",
              "    </tr>\n",
              "  </thead>\n",
              "  <tbody>\n",
              "    <tr>\n",
              "      <th>0</th>\n",
              "      <td>Хлеб Венгерский</td>\n",
              "      <td>21.48</td>\n",
              "    </tr>\n",
              "    <tr>\n",
              "      <th>1</th>\n",
              "      <td>Хлеб \"Барбари\"</td>\n",
              "      <td>16.52</td>\n",
              "    </tr>\n",
              "    <tr>\n",
              "      <th>2</th>\n",
              "      <td>Багет парижский</td>\n",
              "      <td>17.42</td>\n",
              "    </tr>\n",
              "    <tr>\n",
              "      <th>3</th>\n",
              "      <td>Чиабатта</td>\n",
              "      <td>18.08</td>\n",
              "    </tr>\n",
              "  </tbody>\n",
              "</table>\n",
              "</div>"
            ],
            "text/plain": [
              "              Name  Cost_price\n",
              "0  Хлеб Венгерский       21.48\n",
              "1   Хлеб \"Барбари\"       16.52\n",
              "2  Багет парижский       17.42\n",
              "3         Чиабатта       18.08"
            ]
          },
          "execution_count": 2,
          "metadata": {},
          "output_type": "execute_result"
        }
      ],
      "source": [
        "ws = xw.Book('себестоимостьА_в1.xlsx').sheets['Рецептура']\n",
        "resipe = pd.DataFrame(ws.range('рцп_пшеничный_хлеб').value).fillna(value = np.nan)\n",
        "cost_price = {resipe.loc[val][1] : np.round(sum([va * pr for va, pr in zip(resipe.loc[val][5:], resipe.loc[10][5:]) if va * pr >= 0]), 2) for val in range(3,7)}\n",
        "res = list(cost_price.values())\n",
        "cost_price = pd.DataFrame({'Name' : list(cost_price.keys()), 'Cost_price' : list(cost_price.values())})\n",
        "cost_price"
      ]
    },
    {
      "cell_type": "markdown",
      "metadata": {
        "id": "u0o96S-fki4B"
      },
      "source": [
        "2. Результаты расчетов 1.1 сохранить в отдельном столбце области \"Пшеничный хлеб\""
      ]
    },
    {
      "cell_type": "code",
      "execution_count": null,
      "metadata": {
        "id": "8q0dsvM-ki4B"
      },
      "outputs": [],
      "source": [
        "ws.range('P5').value = 'Себестоимость'\n",
        "ws.range('P7').options(transpose = True).value = res"
      ]
    },
    {
      "cell_type": "markdown",
      "metadata": {
        "id": "NEagvR5_ki4C"
      },
      "source": [
        "3. Приблизить форматирование столбца, добавленного в задаче 2 к оформлению всей области."
      ]
    },
    {
      "cell_type": "code",
      "execution_count": null,
      "metadata": {
        "id": "DzOwTebHki4C"
      },
      "outputs": [],
      "source": [
        "ws.range('P5').autofit()\n",
        "ws.range('P5').font.bold = True\n",
        "ws.range('P5').api.VerticalAlignment = 1"
      ]
    },
    {
      "cell_type": "markdown",
      "metadata": {
        "id": "CdhL3_Lqki4C"
      },
      "source": [
        "## Лабораторная работа 7.1"
      ]
    },
    {
      "cell_type": "markdown",
      "metadata": {
        "id": "su8XHXyaki4D"
      },
      "source": [
        "1. Загрузите данные из файлов `reviews_sample.csv` (__ЛР2__) и `recipes_sample.csv` (__ЛР5__) в виде `pd.DataFrame`. Обратите внимание на корректное считывание столбца(ов) с индексами. Оставьте в таблице с рецептами следующие столбцы: `id`, `name`, `minutes`, `submitted`, `description`, `n_ingredients`"
      ]
    },
    {
      "cell_type": "code",
      "execution_count": null,
      "metadata": {
        "id": "HdMiM7r_ki4D",
        "outputId": "e1fccafb-2af6-49da-eaa5-ffb2caf331cc"
      },
      "outputs": [
        {
          "data": {
            "text/html": [
              "<div>\n",
              "<style scoped>\n",
              "    .dataframe tbody tr th:only-of-type {\n",
              "        vertical-align: middle;\n",
              "    }\n",
              "\n",
              "    .dataframe tbody tr th {\n",
              "        vertical-align: top;\n",
              "    }\n",
              "\n",
              "    .dataframe thead th {\n",
              "        text-align: right;\n",
              "    }\n",
              "</style>\n",
              "<table border=\"1\" class=\"dataframe\">\n",
              "  <thead>\n",
              "    <tr style=\"text-align: right;\">\n",
              "      <th></th>\n",
              "      <th>id</th>\n",
              "      <th>name</th>\n",
              "      <th>minutes</th>\n",
              "      <th>submitted</th>\n",
              "      <th>description</th>\n",
              "      <th>n_ingredients</th>\n",
              "    </tr>\n",
              "  </thead>\n",
              "  <tbody>\n",
              "    <tr>\n",
              "      <th>0</th>\n",
              "      <td>44123</td>\n",
              "      <td>george s at the cove  black bean soup</td>\n",
              "      <td>90</td>\n",
              "      <td>2002-10-25</td>\n",
              "      <td>an original recipe created by chef scott meska...</td>\n",
              "      <td>18.0</td>\n",
              "    </tr>\n",
              "    <tr>\n",
              "      <th>1</th>\n",
              "      <td>67664</td>\n",
              "      <td>healthy for them  yogurt popsicles</td>\n",
              "      <td>10</td>\n",
              "      <td>2003-07-26</td>\n",
              "      <td>my children and their friends ask for my homem...</td>\n",
              "      <td>NaN</td>\n",
              "    </tr>\n",
              "    <tr>\n",
              "      <th>2</th>\n",
              "      <td>38798</td>\n",
              "      <td>i can t believe it s spinach</td>\n",
              "      <td>30</td>\n",
              "      <td>2002-08-29</td>\n",
              "      <td>these were so go, it surprised even me.</td>\n",
              "      <td>8.0</td>\n",
              "    </tr>\n",
              "    <tr>\n",
              "      <th>3</th>\n",
              "      <td>35173</td>\n",
              "      <td>italian  gut busters</td>\n",
              "      <td>45</td>\n",
              "      <td>2002-07-27</td>\n",
              "      <td>my sister-in-law made these for us at a family...</td>\n",
              "      <td>NaN</td>\n",
              "    </tr>\n",
              "    <tr>\n",
              "      <th>4</th>\n",
              "      <td>84797</td>\n",
              "      <td>love is in the air  beef fondue   sauces</td>\n",
              "      <td>25</td>\n",
              "      <td>2004-02-23</td>\n",
              "      <td>i think a fondue is a very romantic casual din...</td>\n",
              "      <td>NaN</td>\n",
              "    </tr>\n",
              "    <tr>\n",
              "      <th>...</th>\n",
              "      <td>...</td>\n",
              "      <td>...</td>\n",
              "      <td>...</td>\n",
              "      <td>...</td>\n",
              "      <td>...</td>\n",
              "      <td>...</td>\n",
              "    </tr>\n",
              "    <tr>\n",
              "      <th>29995</th>\n",
              "      <td>267661</td>\n",
              "      <td>zurie s holey rustic olive and cheddar bread</td>\n",
              "      <td>80</td>\n",
              "      <td>2007-11-25</td>\n",
              "      <td>this is based on a french recipe but i changed...</td>\n",
              "      <td>10.0</td>\n",
              "    </tr>\n",
              "    <tr>\n",
              "      <th>29996</th>\n",
              "      <td>386977</td>\n",
              "      <td>zwetschgenkuchen  bavarian plum cake</td>\n",
              "      <td>240</td>\n",
              "      <td>2009-08-24</td>\n",
              "      <td>this is a traditional fresh plum cake, thought...</td>\n",
              "      <td>11.0</td>\n",
              "    </tr>\n",
              "    <tr>\n",
              "      <th>29997</th>\n",
              "      <td>103312</td>\n",
              "      <td>zwiebelkuchen   southwest german onion cake</td>\n",
              "      <td>75</td>\n",
              "      <td>2004-11-03</td>\n",
              "      <td>this is a traditional late summer early fall s...</td>\n",
              "      <td>NaN</td>\n",
              "    </tr>\n",
              "    <tr>\n",
              "      <th>29998</th>\n",
              "      <td>486161</td>\n",
              "      <td>zydeco soup</td>\n",
              "      <td>60</td>\n",
              "      <td>2012-08-29</td>\n",
              "      <td>this is a delicious soup that i originally fou...</td>\n",
              "      <td>NaN</td>\n",
              "    </tr>\n",
              "    <tr>\n",
              "      <th>29999</th>\n",
              "      <td>298512</td>\n",
              "      <td>cookies by design   cookies on a stick</td>\n",
              "      <td>29</td>\n",
              "      <td>2008-04-15</td>\n",
              "      <td>i've heard of the 'cookies by design' company,...</td>\n",
              "      <td>10.0</td>\n",
              "    </tr>\n",
              "  </tbody>\n",
              "</table>\n",
              "<p>30000 rows × 6 columns</p>\n",
              "</div>"
            ],
            "text/plain": [
              "           id                                          name  minutes  \\\n",
              "0       44123         george s at the cove  black bean soup       90   \n",
              "1       67664            healthy for them  yogurt popsicles       10   \n",
              "2       38798                  i can t believe it s spinach       30   \n",
              "3       35173                          italian  gut busters       45   \n",
              "4       84797      love is in the air  beef fondue   sauces       25   \n",
              "...       ...                                           ...      ...   \n",
              "29995  267661  zurie s holey rustic olive and cheddar bread       80   \n",
              "29996  386977          zwetschgenkuchen  bavarian plum cake      240   \n",
              "29997  103312   zwiebelkuchen   southwest german onion cake       75   \n",
              "29998  486161                                   zydeco soup       60   \n",
              "29999  298512        cookies by design   cookies on a stick       29   \n",
              "\n",
              "        submitted                                        description  \\\n",
              "0      2002-10-25  an original recipe created by chef scott meska...   \n",
              "1      2003-07-26  my children and their friends ask for my homem...   \n",
              "2      2002-08-29            these were so go, it surprised even me.   \n",
              "3      2002-07-27  my sister-in-law made these for us at a family...   \n",
              "4      2004-02-23  i think a fondue is a very romantic casual din...   \n",
              "...           ...                                                ...   \n",
              "29995  2007-11-25  this is based on a french recipe but i changed...   \n",
              "29996  2009-08-24  this is a traditional fresh plum cake, thought...   \n",
              "29997  2004-11-03  this is a traditional late summer early fall s...   \n",
              "29998  2012-08-29  this is a delicious soup that i originally fou...   \n",
              "29999  2008-04-15  i've heard of the 'cookies by design' company,...   \n",
              "\n",
              "       n_ingredients  \n",
              "0               18.0  \n",
              "1                NaN  \n",
              "2                8.0  \n",
              "3                NaN  \n",
              "4                NaN  \n",
              "...              ...  \n",
              "29995           10.0  \n",
              "29996           11.0  \n",
              "29997            NaN  \n",
              "29998            NaN  \n",
              "29999           10.0  \n",
              "\n",
              "[30000 rows x 6 columns]"
            ]
          },
          "execution_count": 2,
          "metadata": {},
          "output_type": "execute_result"
        }
      ],
      "source": [
        "reviews = pd.read_csv('reviews_sample.csv', delimiter = ',', names = ['First', 'user_id', 'recipe_id', 'date', 'rating', 'review'])\n",
        "recipes = pd.read_csv('recipes_sample.csv', delimiter = ',')\n",
        "reviews.drop(0, axis = 0, inplace = True)\n",
        "recipes = recipes[['id', 'name', 'minutes', 'submitted', 'description', 'n_ingredients']]\n",
        "recipes"
      ]
    },
    {
      "cell_type": "code",
      "execution_count": null,
      "metadata": {
        "id": "0oats4a_ki4D"
      },
      "outputs": [],
      "source": [
        "red = np.random.choice(len(recipes), int(len(recipes) * 0.05), replace = False)\n",
        "red1 = np.random.choice(len(reviews), int(len(reviews) * 0.05), replace = False)"
      ]
    },
    {
      "cell_type": "markdown",
      "metadata": {
        "id": "wEQQr3dNki4D"
      },
      "source": [
        "2. Случайным образом выберите 5% строк из каждой таблицы и сохраните две таблицы на разные листы в один файл `recipes.xlsx`. Дайте листам названия \"Рецепты\" и \"Отзывы\", соответствующие содержанию таблиц. "
      ]
    },
    {
      "cell_type": "code",
      "execution_count": null,
      "metadata": {
        "id": "Zc3DZFaUki4D"
      },
      "outputs": [],
      "source": [
        "xs = xw.Book('recipes.xlsx')\n",
        "xs.sheets.add(name = 'Рецепты').range('A1').value = [list(recipes)] + [list(recipes.iloc[i].values) for i in red]\n",
        "xs.sheets.add(name = 'Отзывы').range('A1').value = [list(reviews)] + [list(reviews.iloc[i].values) for i in red1]"
      ]
    },
    {
      "cell_type": "markdown",
      "metadata": {
        "id": "ndTymLNfki4D"
      },
      "source": [
        "3. Используя `xlwings`, добавьте на лист `Рецепты` столбец `seconds_assign`, показывающий время выполнения рецепта в секундах. Выполните задание при помощи присваивания массива значений диапазону ячеек."
      ]
    },
    {
      "cell_type": "code",
      "execution_count": null,
      "metadata": {
        "id": "D6brYRcski4E"
      },
      "outputs": [],
      "source": [
        "xs = xw.sheets['Рецепты']\n",
        "xs1 = xw.sheets['Отзывы']\n",
        "xs.range('G1').options(transpose = True).value = ['seconds_assign'] + [i * 60 for i in xs.range('C2').expand('down').value]"
      ]
    },
    {
      "cell_type": "markdown",
      "metadata": {
        "id": "ec2xiQh7ki4E"
      },
      "source": [
        "4. Используя `xlwings`, добавьте на лист `Рецепты` столбец `seconds_formula`, показывающий время выполнения рецепта в секундах. Выполните задание при помощи формул Excel."
      ]
    },
    {
      "cell_type": "code",
      "execution_count": null,
      "metadata": {
        "id": "Wvxbl9GSki4E"
      },
      "outputs": [],
      "source": [
        "xs.range('H1').value = 'seconds_formula'\n",
        "xs.range('H2:H1501').formula = f'=$C2 * 60'"
      ]
    },
    {
      "cell_type": "markdown",
      "metadata": {
        "id": "3W6ZpJUPki4E"
      },
      "source": [
        "5. Сделайте названия всех добавленных столбцов полужирными и выровняйте по центру ячейки."
      ]
    },
    {
      "cell_type": "code",
      "execution_count": null,
      "metadata": {
        "id": "yUHwEGd9ki4E"
      },
      "outputs": [],
      "source": [
        "xs.range('B1:H1').autofit()\n",
        "xs.range('A1:H1').font.bold = True\n",
        "xs.range('A1:H1').api.HorizontalAlignment = -4131"
      ]
    },
    {
      "cell_type": "markdown",
      "metadata": {
        "id": "IN9E6noMki4F"
      },
      "source": [
        "6. Раскрасьте ячейки столбца `minutes` в соответствии со следующим правилом: если рецепт выполняется быстрее 5 минут, то цвет - зеленый; от 5 до 10 минут - жёлтый; и больше 10 - красный."
      ]
    },
    {
      "cell_type": "code",
      "execution_count": null,
      "metadata": {
        "id": "wyIpx4lRki4F"
      },
      "outputs": [],
      "source": [
        "minutes = xs.range('A1').expand().options(pd.DataFrame).value['minutes']\n",
        "colors = [(255, 0, 0) if x > 10 else (0, 255, 0) if x < 5 else (255, 255, 0) for x in minutes]\n",
        "for i in range(len(colors)):\n",
        "    xs.range('C'+str(2 + i)).color = colors[i]"
      ]
    },
    {
      "cell_type": "markdown",
      "metadata": {
        "id": "yQ3d3I5gki4F"
      },
      "source": [
        "7. Добавьте на лист `Рецепты`  столбец `n_reviews`, содержащий кол-во отзывов для этого рецепта. Выполните задание при помощи формул Excel."
      ]
    },
    {
      "cell_type": "code",
      "execution_count": null,
      "metadata": {
        "id": "id8DS1e9ki4F"
      },
      "outputs": [],
      "source": [
        "recipe = xs.range('A1').expand().options(pd.DataFrame).value\n",
        "review = xs1.range('A1').expand().options(pd.DataFrame).value\n",
        "k = list(recipe.merge(review, left_on = 'id', right_on = 'recipe_id')['recipe_id'])\n",
        "xs.range('I1').options(transpose = True).value = ['n_reviews'] + [k.count(i) for i in list(recipe.index)]"
      ]
    },
    {
      "cell_type": "code",
      "execution_count": null,
      "metadata": {
        "id": "oymus4yQki4F"
      },
      "outputs": [],
      "source": [
        "for i in range(2, 1502):\n",
        "    xs.range('I' + str(i)).value = f'q=СЧЕТЕСЛИ(Отзывы!$C2:$C6335; A{i})'\n",
        "    xs.range('I' + str(i)).characters[0].api.Delete()"
      ]
    },
    {
      "cell_type": "markdown",
      "metadata": {
        "id": "c4L20iH5ki4F"
      },
      "source": [
        "## Лабораторная работа 7.2"
      ]
    },
    {
      "cell_type": "markdown",
      "metadata": {
        "id": "02n68vwski4F"
      },
      "source": [
        "8. Напишите функцию `validate()`, которая проверяет соответствие всех строк из листа `Отзывы` следующим правилам:\n",
        "    * Рейтинг - это число от 0 до 5 включительно\n",
        "    * Соответствующий рецепт имеется на листе `Рецепты`\n",
        "    \n",
        "В случае несоответствия этим правилам, выделите строку красным цветом"
      ]
    },
    {
      "cell_type": "code",
      "execution_count": null,
      "metadata": {
        "id": "uuTyKG_Zki4F"
      },
      "outputs": [],
      "source": [
        "def vilidate(xs, recipe, review):\n",
        "    for i in range(1, len(review)):\n",
        "        if (review.iloc[i]['rating'] >= 0 and review.iloc[i]['rating'] <=5 and list(recipe.index).count(review.iloc[i]['recipe_id']) !=0) == False:\n",
        "            xs.range('A'+str(i)+':F'+str(i)).color = (255, 0, 0)\n",
        "vilidate(xs1, recipe, review)"
      ]
    },
    {
      "cell_type": "markdown",
      "metadata": {
        "id": "tS3_Efekki4G"
      },
      "source": []
    }
  ],
  "metadata": {
    "kernelspec": {
      "display_name": "Python 3 (ipykernel)",
      "language": "python",
      "name": "python3"
    },
    "language_info": {
      "codemirror_mode": {
        "name": "ipython",
        "version": 3
      },
      "file_extension": ".py",
      "mimetype": "text/x-python",
      "name": "python",
      "nbconvert_exporter": "python",
      "pygments_lexer": "ipython3",
      "version": "3.9.13"
    },
    "colab": {
      "provenance": []
    }
  },
  "nbformat": 4,
  "nbformat_minor": 0
}