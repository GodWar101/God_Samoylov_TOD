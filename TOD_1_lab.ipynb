{
  "cells": [
    {
      "cell_type": "code",
      "execution_count": null,
      "id": "9d05d728",
      "metadata": {
        "id": "9d05d728"
      },
      "outputs": [],
      "source": [
        "import numpy as np #импортирование нужных для работы библиотек\n",
        "import pandas\n"
      ]
    },
    {
      "cell_type": "code",
      "execution_count": null,
      "id": "a734b2c1",
      "metadata": {
        "id": "a734b2c1",
        "outputId": "6bb49f83-2504-4aef-ff55-0018b5c6c6d4"
      },
      "outputs": [
        {
          "data": {
            "text/html": [
              "<div>\n",
              "<style scoped>\n",
              "    .dataframe tbody tr th:only-of-type {\n",
              "        vertical-align: middle;\n",
              "    }\n",
              "\n",
              "    .dataframe tbody tr th {\n",
              "        vertical-align: top;\n",
              "    }\n",
              "\n",
              "    .dataframe thead th {\n",
              "        text-align: right;\n",
              "    }\n",
              "</style>\n",
              "<table border=\"1\" class=\"dataframe\">\n",
              "  <thead>\n",
              "    <tr style=\"text-align: right;\">\n",
              "      <th></th>\n",
              "      <th>id</th>\n",
              "      <th>minutes</th>\n",
              "      <th>n_ingredients</th>\n",
              "    </tr>\n",
              "  </thead>\n",
              "  <tbody>\n",
              "    <tr>\n",
              "      <th>0</th>\n",
              "      <td>127244</td>\n",
              "      <td>60</td>\n",
              "      <td>16</td>\n",
              "    </tr>\n",
              "    <tr>\n",
              "      <th>1</th>\n",
              "      <td>23891</td>\n",
              "      <td>25</td>\n",
              "      <td>7</td>\n",
              "    </tr>\n",
              "    <tr>\n",
              "      <th>2</th>\n",
              "      <td>94746</td>\n",
              "      <td>10</td>\n",
              "      <td>6</td>\n",
              "    </tr>\n",
              "    <tr>\n",
              "      <th>3</th>\n",
              "      <td>67660</td>\n",
              "      <td>5</td>\n",
              "      <td>6</td>\n",
              "    </tr>\n",
              "    <tr>\n",
              "      <th>4</th>\n",
              "      <td>162911</td>\n",
              "      <td>60</td>\n",
              "      <td>14</td>\n",
              "    </tr>\n",
              "    <tr>\n",
              "      <th>...</th>\n",
              "      <td>...</td>\n",
              "      <td>...</td>\n",
              "      <td>...</td>\n",
              "    </tr>\n",
              "    <tr>\n",
              "      <th>99995</th>\n",
              "      <td>43407</td>\n",
              "      <td>35</td>\n",
              "      <td>7</td>\n",
              "    </tr>\n",
              "    <tr>\n",
              "      <th>99996</th>\n",
              "      <td>287943</td>\n",
              "      <td>85</td>\n",
              "      <td>15</td>\n",
              "    </tr>\n",
              "    <tr>\n",
              "      <th>99997</th>\n",
              "      <td>498432</td>\n",
              "      <td>65</td>\n",
              "      <td>15</td>\n",
              "    </tr>\n",
              "    <tr>\n",
              "      <th>99998</th>\n",
              "      <td>380915</td>\n",
              "      <td>5</td>\n",
              "      <td>4</td>\n",
              "    </tr>\n",
              "    <tr>\n",
              "      <th>99999</th>\n",
              "      <td>81993</td>\n",
              "      <td>140</td>\n",
              "      <td>14</td>\n",
              "    </tr>\n",
              "  </tbody>\n",
              "</table>\n",
              "<p>100000 rows × 3 columns</p>\n",
              "</div>"
            ],
            "text/plain": [
              "           id  minutes  n_ingredients\n",
              "0      127244       60             16\n",
              "1       23891       25              7\n",
              "2       94746       10              6\n",
              "3       67660        5              6\n",
              "4      162911       60             14\n",
              "...       ...      ...            ...\n",
              "99995   43407       35              7\n",
              "99996  287943       85             15\n",
              "99997  498432       65             15\n",
              "99998  380915        5              4\n",
              "99999   81993      140             14\n",
              "\n",
              "[100000 rows x 3 columns]"
            ]
          },
          "execution_count": 2,
          "metadata": {},
          "output_type": "execute_result"
        }
      ],
      "source": [
        "data = pandas.read_csv('minutes_n_ingredients.csv') #1 задание\n",
        "data"
      ]
    },
    {
      "cell_type": "markdown",
      "id": "1d6ea32f",
      "metadata": {
        "id": "1d6ea32f"
      },
      "source": [
        "Файл minutes_n_ingredients.csv содержит информацию об идентификаторе рецепта, времени его выполнения в минутах и количестве необходимых ингредиентов. Считайте данные из этого файла в виде массива numpy типа int32, используя np.load_txt. Выведите на экран первые 5 строк массива.\n"
      ]
    },
    {
      "cell_type": "code",
      "execution_count": null,
      "id": "b1b3db1e",
      "metadata": {
        "id": "b1b3db1e",
        "outputId": "834bed06-a360-4ea1-feef-528a12330a3e"
      },
      "outputs": [
        {
          "data": {
            "text/plain": [
              "array([[127244,     60,     16],\n",
              "       [ 23891,     25,      7],\n",
              "       [ 94746,     10,      6],\n",
              "       [ 67660,      5,      6],\n",
              "       [162911,     60,     14]])"
            ]
          },
          "execution_count": 3,
          "metadata": {},
          "output_type": "execute_result"
        }
      ],
      "source": [
        "data = np.loadtxt('minutes_n_ingredients.csv', delimiter=',', skiprows=1, dtype=np.int32)\n",
        "data[:5]"
      ]
    },
    {
      "cell_type": "markdown",
      "id": "bc1be39c",
      "metadata": {
        "id": "bc1be39c"
      },
      "source": [
        "Вычислите среднее значение, минимум, максимум и медиану по каждому из столбцов, кроме первого."
      ]
    },
    {
      "cell_type": "code",
      "execution_count": null,
      "id": "2002d812",
      "metadata": {
        "id": "2002d812",
        "outputId": "20e7244f-b269-42bd-906f-fcc40fa75b4e"
      },
      "outputs": [
        {
          "name": "stdout",
          "output_type": "stream",
          "text": [
            "[2.1601398e+04 9.0552800e+00]\n",
            "[0 1]\n",
            "[2147483647         39]\n",
            "[40.  9.]\n"
          ]
        }
      ],
      "source": [
        "print(data[:, 1:].mean(axis=0), data[:, 1:].min(axis=0), data[:, 1:].max(axis=0), np.median(data[:, 1:], axis=0), sep='\\n')\n"
      ]
    },
    {
      "cell_type": "markdown",
      "id": "455f5a97",
      "metadata": {
        "id": "455f5a97"
      },
      "source": [
        "Ограничьте сверху значения продолжительности выполнения рецепта значением квантиля  q0.75 .\n"
      ]
    },
    {
      "cell_type": "code",
      "execution_count": null,
      "id": "b4b4f729",
      "metadata": {
        "id": "b4b4f729",
        "outputId": "03729a8f-8aba-49a9-8c28-cdad4df71f97"
      },
      "outputs": [
        {
          "data": {
            "text/plain": [
              "65.0"
            ]
          },
          "execution_count": 5,
          "metadata": {},
          "output_type": "execute_result"
        }
      ],
      "source": [
        "q = np.quantile(data[:, 1], q=0.75)\n",
        "data[:, 1] = data[:, 1].clip(max=q)\n",
        "q"
      ]
    },
    {
      "cell_type": "markdown",
      "id": "a3ddedea",
      "metadata": {
        "id": "a3ddedea"
      },
      "source": [
        "Посчитайте, для скольких рецептов указана продолжительность, равная нулю. Замените для таких строк значение в данном столбце на 1."
      ]
    },
    {
      "cell_type": "code",
      "execution_count": null,
      "id": "888387f2",
      "metadata": {
        "id": "888387f2",
        "outputId": "f06fc97e-5cc0-4b1d-e67b-7917b3047051"
      },
      "outputs": [
        {
          "name": "stdout",
          "output_type": "stream",
          "text": [
            "479\n"
          ]
        }
      ],
      "source": [
        "print(data[data[:, 1]==0].shape[0])\n",
        "data[data[:, 1]==0, 1]=1"
      ]
    },
    {
      "cell_type": "markdown",
      "id": "fa7a2f00",
      "metadata": {
        "id": "fa7a2f00"
      },
      "source": [
        "Посчитайте, сколько уникальных рецептов находится в датасете.\n"
      ]
    },
    {
      "cell_type": "code",
      "execution_count": null,
      "id": "a521fd3a",
      "metadata": {
        "id": "a521fd3a",
        "outputId": "69f14c73-a418-456b-80f9-805f84688701"
      },
      "outputs": [
        {
          "data": {
            "text/plain": [
              "98252"
            ]
          },
          "execution_count": 7,
          "metadata": {},
          "output_type": "execute_result"
        }
      ],
      "source": [
        "len(np.unique(data[:, 0], axis=0))"
      ]
    },
    {
      "cell_type": "markdown",
      "id": "8ac6fffe",
      "metadata": {
        "id": "8ac6fffe"
      },
      "source": [
        "Сколько и каких различных значений кол-ва ингредиентов присутвует в рецептах из датасета?"
      ]
    },
    {
      "cell_type": "code",
      "execution_count": null,
      "id": "3f58ca46",
      "metadata": {
        "id": "3f58ca46",
        "outputId": "98111f9b-0074-4f9c-e2fe-07a504ddad84"
      },
      "outputs": [
        {
          "data": {
            "text/plain": [
              "37"
            ]
          },
          "execution_count": 8,
          "metadata": {},
          "output_type": "execute_result"
        }
      ],
      "source": [
        "len(np.unique(data[:, 2]))"
      ]
    },
    {
      "cell_type": "code",
      "execution_count": null,
      "id": "d70999cd",
      "metadata": {
        "id": "d70999cd",
        "outputId": "3e474cc0-7f82-44b7-8b3a-b4a3bd8e3fb6"
      },
      "outputs": [
        {
          "data": {
            "text/plain": [
              "array([ 1,  2,  3,  4,  5,  6,  7,  8,  9, 10, 11, 12, 13, 14, 15, 16, 17,\n",
              "       18, 19, 20, 21, 22, 23, 24, 25, 26, 27, 28, 29, 30, 31, 32, 33, 34,\n",
              "       35, 37, 39])"
            ]
          },
          "execution_count": 9,
          "metadata": {},
          "output_type": "execute_result"
        }
      ],
      "source": [
        "np.unique(data[:, 2])"
      ]
    },
    {
      "cell_type": "markdown",
      "id": "e67a1317",
      "metadata": {
        "id": "e67a1317"
      },
      "source": [
        "Создайте версию массива, содержащую информацию только о рецептах, состоящих не более чем из 5 ингредиентов."
      ]
    },
    {
      "cell_type": "code",
      "execution_count": null,
      "id": "eb958103",
      "metadata": {
        "id": "eb958103",
        "outputId": "548020cd-a8bf-4ed7-ae00-3227f3068c72"
      },
      "outputs": [
        {
          "data": {
            "text/plain": [
              "array([[446597,     15,      5],\n",
              "       [204134,      5,      3],\n",
              "       [ 25623,      6,      4],\n",
              "       ...,\n",
              "       [ 52088,     60,      5],\n",
              "       [128811,     15,      4],\n",
              "       [380915,      5,      4]])"
            ]
          },
          "execution_count": 10,
          "metadata": {},
          "output_type": "execute_result"
        }
      ],
      "source": [
        "data_n_ingr_m5 = data[data[:, 2] <= 5].copy()\n",
        "data_n_ingr_m5"
      ]
    },
    {
      "cell_type": "markdown",
      "id": "e3136aaf",
      "metadata": {
        "id": "e3136aaf"
      },
      "source": [
        "Для каждого рецепта посчитайте, сколько в среднем ингредиентов приходится на одну минуту рецепта. Найдите максимальное значение этой величины для всего датасета"
      ]
    },
    {
      "cell_type": "code",
      "execution_count": null,
      "id": "4cfba4ca",
      "metadata": {
        "id": "4cfba4ca",
        "outputId": "35a21ed3-7102-4ef2-f9ff-0c8f73ea6ea4"
      },
      "outputs": [
        {
          "data": {
            "text/plain": [
              "(0.39829031572089063, 24.0)"
            ]
          },
          "execution_count": 11,
          "metadata": {},
          "output_type": "execute_result"
        }
      ],
      "source": [
        "medium_ingred_by_minutes = data[:, 2] / data[:, 1]\n",
        "medium_ingred_by_minutes.mean(), medium_ingred_by_minutes.max()"
      ]
    },
    {
      "cell_type": "markdown",
      "id": "b25284cb",
      "metadata": {
        "id": "b25284cb"
      },
      "source": [
        "Вычислите среднее количество ингредиентов для топ-100 рецептов с наибольшей продолжительностью"
      ]
    },
    {
      "cell_type": "code",
      "execution_count": null,
      "id": "bf96d4b9",
      "metadata": {
        "id": "bf96d4b9",
        "outputId": "f416f3ea-6a71-4390-a13a-658ba83666cc"
      },
      "outputs": [
        {
          "data": {
            "text/plain": [
              "9.75"
            ]
          },
          "execution_count": 12,
          "metadata": {},
          "output_type": "execute_result"
        }
      ],
      "source": [
        "data[data[:, 1].argsort()][-100:][:, 2].mean()"
      ]
    },
    {
      "cell_type": "markdown",
      "id": "9d3613df",
      "metadata": {
        "id": "9d3613df"
      },
      "source": [
        "Выберите случайным образом и выведите информацию о 10 различных рецептах"
      ]
    },
    {
      "cell_type": "code",
      "execution_count": null,
      "id": "43d83eb4",
      "metadata": {
        "id": "43d83eb4",
        "outputId": "d5683bab-3d90-4ed0-8b04-47c0048be55e"
      },
      "outputs": [
        {
          "data": {
            "text/plain": [
              "array([[290216,     25,      8],\n",
              "       [514895,     30,      5],\n",
              "       [373158,      5,      6],\n",
              "       [114103,     65,     11],\n",
              "       [380078,     50,     11],\n",
              "       [464901,     38,      8],\n",
              "       [ 96276,     35,     11],\n",
              "       [388617,     65,     13],\n",
              "       [236938,     25,      6],\n",
              "       [ 40843,     45,      7]])"
            ]
          },
          "execution_count": 13,
          "metadata": {},
          "output_type": "execute_result"
        }
      ],
      "source": [
        "random_ind = np.random.randint(0, 10000, size=10)\n",
        "data[random_ind]"
      ]
    },
    {
      "cell_type": "markdown",
      "id": "c3fac4c1",
      "metadata": {
        "id": "c3fac4c1"
      },
      "source": [
        "Выведите процент рецептов, кол-во ингредиентов в которых меньше среднего."
      ]
    },
    {
      "cell_type": "code",
      "execution_count": null,
      "id": "056f11f2",
      "metadata": {
        "id": "056f11f2",
        "outputId": "c83c00f4-2e6b-4459-9f0d-1b9ba8849e7b"
      },
      "outputs": [
        {
          "data": {
            "text/plain": [
              "58.802"
            ]
          },
          "execution_count": 14,
          "metadata": {},
          "output_type": "execute_result"
        }
      ],
      "source": [
        "sred_ingred = data[:, 2].mean()\n",
        "len(data[data[:, 2] < sred_ingred]) / len(data) * 100"
      ]
    },
    {
      "cell_type": "markdown",
      "id": "d2a74e19",
      "metadata": {
        "id": "d2a74e19"
      },
      "source": [
        "Назовем \"простым\" такой рецепт, длительность выполнения которого не больше 20 минут и кол-во ингредиентов в котором не больше 5. Создайте версию датасета с дополнительным столбцом, значениями которого являются 1, если рецепт простой, и 0 в противном случае.\n"
      ]
    },
    {
      "cell_type": "code",
      "execution_count": null,
      "id": "088704ec",
      "metadata": {
        "id": "088704ec",
        "outputId": "b2d5eb63-9de5-4d32-a55c-a12a30db133f"
      },
      "outputs": [
        {
          "data": {
            "text/plain": [
              "array([[127244,     60,     16,      0],\n",
              "       [ 23891,     25,      7,      0],\n",
              "       [ 94746,     10,      6,      0],\n",
              "       ...,\n",
              "       [498432,     65,     15,      0],\n",
              "       [380915,      5,      4,      1],\n",
              "       [ 81993,     65,     14,      0]])"
            ]
          },
          "execution_count": 15,
          "metadata": {},
          "output_type": "execute_result"
        }
      ],
      "source": [
        "prostota = (data[:, 1] <= 20) & (data[:, 2] <= 5)\n",
        "prostota = prostota.astype(np.int32)\n",
        "prostota = prostota[:, np.newaxis]\n",
        "\n",
        "data_prostota = np.hstack((data, prostota))\n",
        "data_prostota"
      ]
    },
    {
      "cell_type": "markdown",
      "id": "3f2ae1f2",
      "metadata": {
        "id": "3f2ae1f2"
      },
      "source": [
        "Выведите процент \"простых\" рецептов в датасете"
      ]
    },
    {
      "cell_type": "code",
      "execution_count": null,
      "id": "b579f7d8",
      "metadata": {
        "id": "b579f7d8",
        "outputId": "832bb637-df7a-445b-bf82-b654c1bedaaa"
      },
      "outputs": [
        {
          "data": {
            "text/plain": [
              "9.552"
            ]
          },
          "execution_count": 16,
          "metadata": {},
          "output_type": "execute_result"
        }
      ],
      "source": [
        "len(data_prostota[data_prostota[:, 3] == 1]) / len(data_prostota) * 100"
      ]
    },
    {
      "cell_type": "markdown",
      "id": "a88e2d53",
      "metadata": {
        "id": "a88e2d53"
      },
      "source": [
        "Разделим рецепты на группы по следующему правилу. Назовем рецепты короткими, если их продолжительность составляет менее 10 минут; стандартными, если их продолжительность составляет более 10, но менее 20 минут; и длинными, если их продолжительность составляет не менее 20 минут. Создайте трехмерный массив, где нулевая ось отвечает за номер группы (короткий, стандартный или длинный рецепт), первая ось - за сам рецепт и вторая ось - за характеристики рецепта. Выберите максимальное количество рецептов из каждой группы таким образом, чтобы было возможно сформировать трехмерный массив. Выведите форму полученного массива."
      ]
    },
    {
      "cell_type": "code",
      "execution_count": null,
      "id": "c4684cd0",
      "metadata": {
        "id": "c4684cd0",
        "outputId": "24c517d9-b866-4d17-d367-e049e11ddff6"
      },
      "outputs": [
        {
          "data": {
            "text/plain": [
              "array([[[ 67660,      5,      6],\n",
              "        [366174,      7,      9],\n",
              "        [204134,      5,      3],\n",
              "        ...,\n",
              "        [420725,      5,      3],\n",
              "        [  4747,      1,      9],\n",
              "        [380915,      5,      4]],\n",
              "\n",
              "       [[ 94746,     10,      6],\n",
              "        [ 33941,     18,      9],\n",
              "        [446597,     15,      5],\n",
              "        ...,\n",
              "        [  9831,     15,      7],\n",
              "        [335859,     12,     14],\n",
              "        [256812,     10,      3]],\n",
              "\n",
              "       [[127244,     60,     16],\n",
              "        [ 23891,     25,      7],\n",
              "        [162911,     60,     14],\n",
              "        ...,\n",
              "        [168901,     25,      7],\n",
              "        [392339,     35,     13],\n",
              "        [206732,     45,     10]]])"
            ]
          },
          "execution_count": 17,
          "metadata": {},
          "output_type": "execute_result"
        }
      ],
      "source": [
        "short = data[data[:, 1] < 10]\n",
        "standart = data[(data[:, 1] >= 10) & (data[:, 1] < 20)]\n",
        "long = data[data[:, 1] >= 20]\n",
        "stop = min([len(arr) for arr in [short, standart, long]])\n",
        "np.array([short[:stop], standart[:stop], long[:stop]])"
      ]
    }
  ],
  "metadata": {
    "kernelspec": {
      "display_name": "Python 3 (ipykernel)",
      "language": "python",
      "name": "python3"
    },
    "language_info": {
      "codemirror_mode": {
        "name": "ipython",
        "version": 3
      },
      "file_extension": ".py",
      "mimetype": "text/x-python",
      "name": "python",
      "nbconvert_exporter": "python",
      "pygments_lexer": "ipython3",
      "version": "3.9.13"
    },
    "colab": {
      "provenance": []
    }
  },
  "nbformat": 4,
  "nbformat_minor": 5
}